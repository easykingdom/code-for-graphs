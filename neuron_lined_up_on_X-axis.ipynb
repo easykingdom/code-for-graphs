{
 "cells": [
  {
   "cell_type": "code",
   "execution_count": 1,
   "id": "30234037",
   "metadata": {},
   "outputs": [
    {
     "name": "stdout",
     "output_type": "stream",
     "text": [
      "('n11', 'n22', 'n26', 'n32', 'n44', 'n2', 'n48', 'OLQDR', 'URYDR', 'AFDR', 'RIAR', 'n64', 'n14', 'n15', 'n52', 'n59', 'URBR', 'OLLR', 'URAVL', 'n23', 'n7', 'n8', 'n24', 'n46', 'n47', 'n13', 'n54', 'n50', 'n69', 'n58', 'n37', 'n57', 'AQR', 'n1', 'n4', 'M3R', 'IL1VR', 'OLQVR', 'AVER', 'n38', 'n39', 'n42', 'n49', 'IL1VL', 'n16', 'URYDL', 'AVAR', 'n45', 'n55', 'n60', 'n62', 'n3', 'n5', 'n36', 'n40', 'n41', 'n53', 'n68', 'n25', 'n63', 'n65', 'RMDVR', 'n35', 'n67', 'n66', 'n51', 'n56', 'RMER', 'SMDVR', 'n61', 'AVDR', 'RIVR', 'ASGR', 'n27')\n"
     ]
    },
    {
     "data": {
      "image/png": "[encoded data removed]",
      "text/plain": [
       "<Figure size 1440x432 with 1 Axes>"
      ]
     },
     "metadata": {
      "needs_background": "light"
     },
     "output_type": "display_data"
    }
   ],
   "source": [
    "import pandas as pd\n",
    "import matplotlib.pyplot as plt\n",
    "import numpy as np\n",
    "import glob\n",
    "\n",
    "# set the folder path and suffix\n",
    "folder_path = \"./\"\n",
    "suffix = \"*_peak_baseline.xlsx\"\n",
    "excel_files = glob.glob(folder_path + \"/\" + suffix)\n",
    "\n",
    "# create empty lists to store neuron names and timepoints\n",
    "names=[]\n",
    "timepoints=[]\n",
    "\n",
    "for file in excel_files:\n",
    "    df = pd.read_excel(file, sheet_name=\"peak\", usecols=[0, 1])\n",
    "    names += df.iloc[:, 0].tolist()\n",
    "    timepoints += df.iloc[:, 1].tolist()\n",
    "# print(names, timepoints)\n",
    "\n",
    "# sort names and timepoints based on timepoints\n",
    "names, timepoints = zip(*sorted(zip(names, timepoints), key=lambda x: x[1]))\n",
    "print(names)\n",
    "\n",
    "# create levels\n",
    "levels = np.tile([-1.5, 1.5, -1, 1, -0.5, 0.5],\n",
    "                 int(np.ceil(len(timepoints)/6)))[:len(timepoints)]\n",
    "\n",
    "# Create figure and plot a stem plot with the date\n",
    "fig, ax = plt.subplots(figsize=(20, 6))\n",
    "ax.set(title=\"triple mutant_all neurons order\")\n",
    "ax.set_ylim(-2,2)\n",
    "\n",
    "ax.vlines(range(len(timepoints)), 0, levels, color=\"tab:red\")  # The vertical stems.\n",
    "ax.set_aspect(3)\n",
    "ax.plot(range(len(timepoints)), np.zeros_like(timepoints), \"-o\",\n",
    "        color=\"k\", markerfacecolor=\"w\")  # Baseline and markers on it.\n",
    "\n",
    "# annotate lines\n",
    "for i, (n, t, l) in enumerate(zip(names, timepoints, levels)):\n",
    "    ax.annotate(n, xy=(i, l),\n",
    "                xytext=(-3, np.sign(l)*3), textcoords=\"offset points\",\n",
    "                horizontalalignment=\"center\",\n",
    "                verticalalignment=\"bottom\" if l > 0 else \"top\", fontsize=10)\n",
    "    \n",
    "plt.savefig(\"neuron_order.jpg\", dpi=300, bbox_inches=\"tight\")    \n",
    "plt.show()"
   ]
  },
  {
   "cell_type": "code",
   "execution_count": 40,
   "id": "8d419922",
   "metadata": {},
   "outputs": [
    {
     "data": {
      "text/plain": [
       "('n11',\n",
       " 'n22',\n",
       " 'n26',\n",
       " 'n32',\n",
       " 'n44',\n",
       " 'n2',\n",
       " 'n48',\n",
       " 'OLQDR',\n",
       " 'URYDR',\n",
       " 'AFDR',\n",
       " 'RIAR',\n",
       " 'n64',\n",
       " 'n14',\n",
       " 'n15',\n",
       " 'n52',\n",
       " 'n59',\n",
       " 'URBR',\n",
       " 'OLLR',\n",
       " 'URAVL',\n",
       " 'n23',\n",
       " 'n7',\n",
       " 'n8',\n",
       " 'n24',\n",
       " 'n46',\n",
       " 'n47',\n",
       " 'n13',\n",
       " 'n54',\n",
       " 'n50',\n",
       " 'n69',\n",
       " 'n58',\n",
       " 'n37',\n",
       " 'n57',\n",
       " 'AQR',\n",
       " 'n1',\n",
       " 'n4',\n",
       " 'M3R',\n",
       " 'IL1VR',\n",
       " 'OLQVR',\n",
       " 'AVER',\n",
       " 'n38',\n",
       " 'n39',\n",
       " 'n42',\n",
       " 'n49',\n",
       " 'IL1VL',\n",
       " 'n16',\n",
       " 'URYDL',\n",
       " 'AVAR',\n",
       " 'n45',\n",
       " 'n55',\n",
       " 'n60',\n",
       " 'n62',\n",
       " 'n3',\n",
       " 'n5',\n",
       " 'n36',\n",
       " 'n40',\n",
       " 'n41',\n",
       " 'n53',\n",
       " 'n68',\n",
       " 'n25',\n",
       " 'n63',\n",
       " 'n65',\n",
       " 'RMDVR',\n",
       " 'n35',\n",
       " 'n67',\n",
       " 'n66',\n",
       " 'n51',\n",
       " 'n56',\n",
       " 'RMER',\n",
       " 'SMDVR',\n",
       " 'n61',\n",
       " 'AVDR',\n",
       " 'RIVR',\n",
       " 'ASGR',\n",
       " 'n27')"
      ]
     },
     "execution_count": 40,
     "metadata": {},
     "output_type": "execute_result"
    }
   ],
   "source": [
    "names"
   ]
  },
  {
   "cell_type": "code",
   "execution_count": 41,
   "id": "0ff847d6",
   "metadata": {},
   "outputs": [],
   "source": [
    "names = [name for name in names if not name.startswith('n')]"
   ]
  },
  {
   "cell_type": "code",
   "execution_count": 47,
   "id": "cf071f33",
   "metadata": {},
   "outputs": [],
   "source": [
    "df = pd.DataFrame({'Neurons': names})\n",
    "df.to_excel('names.xlsx', index=False)"
   ]
  },
  {
   "cell_type": "code",
   "execution_count": null,
   "id": "98e163cf",
   "metadata": {},
   "outputs": [],
   "source": []
  }
 ],
 "metadata": {
  "kernelspec": {
   "display_name": "Python 3",
   "language": "python",
   "name": "python3"
  },
  "language_info": {
   "codemirror_mode": {
    "name": "ipython",
    "version": 3
   },
   "file_extension": ".py",
   "mimetype": "text/x-python",
   "name": "python",
   "nbconvert_exporter": "python",
   "pygments_lexer": "ipython3",
   "version": "3.8.8"
  }
 },
 "nbformat": 4,
 "nbformat_minor": 5
}
