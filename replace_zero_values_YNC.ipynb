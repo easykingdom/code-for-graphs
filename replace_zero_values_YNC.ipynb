{
 "cells": [
  {
   "cell_type": "code",
   "execution_count": 14,
   "id": "d3dd500c",
   "metadata": {},
   "outputs": [
    {
     "name": "stdout",
     "output_type": "stream",
     "text": [
      "A1_RevSta100fMidSp_20221013_tau_Prgef-1_422AP_GFP_D10001.csv_Center P.xlsx\n",
      "A1_RevSta100fMidSp_20221013_tau_Prgef-1_AP_GFP_D10001.csv_Center P.xlsx\n"
     ]
    }
   ],
   "source": [
    "## Replace zero values with white space\n",
    "import pandas as pd\n",
    "import glob\n",
    "import os\n",
    "\n",
    "for fileName in glob.glob('A1_RevSta100fMidSp*.xlsx'):\n",
    "    df = pd.read_excel(fileName)\n",
    "    print(fileName)\n",
    "    df_new = df.applymap(lambda x: '' if x==0 else x)\n",
    "    df_new.to_excel(fileName+'_zeroReplaced.xlsx', index=False, header=None)\n"
   ]
  },
  {
   "cell_type": "code",
   "execution_count": null,
   "id": "d2a11497",
   "metadata": {},
   "outputs": [],
   "source": []
  }
 ],
 "metadata": {
  "kernelspec": {
   "display_name": "Python 3",
   "language": "python",
   "name": "python3"
  },
  "language_info": {
   "codemirror_mode": {
    "name": "ipython",
    "version": 3
   },
   "file_extension": ".py",
   "mimetype": "text/x-python",
   "name": "python",
   "nbconvert_exporter": "python",
   "pygments_lexer": "ipython3",
   "version": "3.8.8"
  }
 },
 "nbformat": 4,
 "nbformat_minor": 5
}
