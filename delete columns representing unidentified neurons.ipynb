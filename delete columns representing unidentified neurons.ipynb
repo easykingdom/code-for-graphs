{
 "cells": [
  {
   "cell_type": "code",
   "execution_count": 20,
   "id": "ea365679",
   "metadata": {},
   "outputs": [],
   "source": [
    "import glob\n",
    "import os\n",
    "import openpyxl\n",
    "\n",
    "# set the input and output folder paths and suffix\n",
    "input_folder_path = \"C:/Users/uqyrong/Desktop/test\"\n",
    "output_folder_path = \"C:/Users/uqyrong/Desktop/test/output\"\n",
    "suffix = \"*_smooth_distan_corre_deri.xlsx\"\n",
    "\n",
    "# create the output folder if it doesn't exist\n",
    "if not os.path.exists(output_folder_path):\n",
    "    os.makedirs(output_folder_path)\n",
    "\n",
    "# loop through all the Excel files that match the suffix\n",
    "for excel_file_path in glob.glob(input_folder_path + \"/\" + suffix):\n",
    "    # load the Excel workbook\n",
    "    workbook = openpyxl.load_workbook(excel_file_path)\n",
    "\n",
    "    # loop through all the sheets in the workbook\n",
    "    for sheet_name in workbook.sheetnames:\n",
    "        sheet = workbook['smoo_aver']\n",
    "        columns_to_delete = []\n",
    "\n",
    "        # loop through all the column headers in the sheet\n",
    "        for col in sheet.iter_cols():\n",
    "            # check if the column header starts with the letter 'n'\n",
    "            if col[0].value and isinstance(col[0].value, str) and col[0].value.lower().startswith('n'):\n",
    "                # add the column index to the list of columns to delete\n",
    "                columns_to_delete.append(col[0].column)\n",
    "\n",
    "        # delete the columns in reverse order to avoid index errors\n",
    "        for col_index in reversed(columns_to_delete):\n",
    "            sheet.delete_cols(col_index)\n",
    "            \n",
    "    # construct the output file path by replacing the input folder path with the output folder path\n",
    "    output_file_path = os.path.join(output_folder_path, os.path.splitext(os.path.basename(excel_file_path))[0] + \"_modified.xlsx\")\n",
    "\n",
    "\n",
    "    # save the modified workbook to the output file path\n",
    "    workbook.save(output_file_path)"
   ]
  },
  {
   "cell_type": "code",
   "execution_count": null,
   "id": "152f9d0e",
   "metadata": {},
   "outputs": [],
   "source": []
  }
 ],
 "metadata": {
  "kernelspec": {
   "display_name": "Python 3",
   "language": "python",
   "name": "python3"
  },
  "language_info": {
   "codemirror_mode": {
    "name": "ipython",
    "version": 3
   },
   "file_extension": ".py",
   "mimetype": "text/x-python",
   "name": "python",
   "nbconvert_exporter": "python",
   "pygments_lexer": "ipython3",
   "version": "3.8.8"
  }
 },
 "nbformat": 4,
 "nbformat_minor": 5
}
