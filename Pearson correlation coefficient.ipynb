{
 "cells": [
  {
   "cell_type": "code",
   "execution_count": 9,
   "id": "e956ee3f",
   "metadata": {},
   "outputs": [
    {
     "name": "stdout",
     "output_type": "stream",
     "text": [
      "Pearson correlation coefficient between data1 and data2: 0.5317437351168893\n"
     ]
    }
   ],
   "source": [
    "import pandas as pd\n",
    "import numpy as np\n",
    "\n",
    "# Load the Excel file into a Pandas DataFrame\n",
    "df = pd.read_excel('correlation coeffcient.xlsx')\n",
    "\n",
    "# Extract the time series and data values into separate arrays\n",
    "time_series = np.array(df.iloc[:,0])\n",
    "data1 = np.array(df.iloc[:,1])\n",
    "data2 = np.array(df.iloc[:,2])\n",
    "\n",
    "# Compute the mean and standard deviation of each data set\n",
    "mean_data1 = np.mean(data1)\n",
    "mean_data2 = np.mean(data2)\n",
    "std_data1 = np.std(data1, ddof=1)\n",
    "std_data2 = np.std(data2, ddof=1)\n",
    "\n",
    "# Compute the covariance between the two data sets\n",
    "cov_data1_data2 = np.sum((data1 - mean_data1) * (data2 - mean_data2)) / (len(data1) - 1)\n",
    "\n",
    "# Compute the correlation coefficient\n",
    "corr_data1_data2 = cov_data1_data2 / (std_data1 * std_data2)\n",
    "\n",
    "print(\"Pearson correlation coefficient between data1 and data2:\", corr_data1_data2)\n"
   ]
  },
  {
   "cell_type": "code",
   "execution_count": null,
   "id": "a0df230f",
   "metadata": {},
   "outputs": [],
   "source": []
  }
 ],
 "metadata": {
  "kernelspec": {
   "display_name": "Python 3 (ipykernel)",
   "language": "python",
   "name": "python3"
  },
  "language_info": {
   "codemirror_mode": {
    "name": "ipython",
    "version": 3
   },
   "file_extension": ".py",
   "mimetype": "text/x-python",
   "name": "python",
   "nbconvert_exporter": "python",
   "pygments_lexer": "ipython3",
   "version": "3.9.13"
  }
 },
 "nbformat": 4,
 "nbformat_minor": 5
}
