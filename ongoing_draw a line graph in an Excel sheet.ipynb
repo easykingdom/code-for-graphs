{
 "cells": [
  {
   "cell_type": "code",
   "execution_count": 5,
   "id": "a2d03b1a",
   "metadata": {},
   "outputs": [],
   "source": [
    "import openpyxl\n",
    "from openpyxl.chart import LineChart, Reference\n",
    "\n",
    "# creare a new workbook\n",
    "wb = openpyxl.Workbook()\n",
    "\n",
    "# select the active sheet\n",
    "ws = wb.active\n",
    "\n",
    "# write some sample data to the sheet\n",
    "ws['A1'] = 'X'\n",
    "ws['B1'] = 'Y'\n",
    "for i, x in enumerate([1,2,3,4,5]):\n",
    "    ws.cell(row=i + 2, column=1, value=x)\n",
    "    ws.cell(row=i + 2, column=2, value=x ** 2)\n",
    "    \n",
    "# create a line chart from the data\n",
    "values = Reference(ws, min_col=1, min_row=2, max_row=6, max_col=2)\n",
    "chart = LineChart()\n",
    "chart.add_data(values)\n",
    "ws.add_chart(chart, \"D1\")\n",
    "\n",
    "wb.save(\"line_chart.xlsx\")"
   ]
  },
  {
   "cell_type": "code",
   "execution_count": 3,
   "id": "5948f2c3",
   "metadata": {},
   "outputs": [],
   "source": [
    "from openpyxl import Workbook\n",
    "wb = Workbook()\n",
    "\n",
    "# grab the active worksheet\n",
    "ws = wb.active\n",
    "\n",
    "# Data can be assigned directly to cells\n",
    "ws['A1'] = 42\n",
    "\n",
    "# Rows can also be appended\n",
    "ws.append([1, 2, 3, 4, 5, 6, 7, 8, 9])\n",
    "\n",
    "# Python types will automatically be converted\n",
    "import datetime\n",
    "ws['A2'] = datetime.datetime.now()\n",
    "\n",
    "# Save the file\n",
    "wb.save(\"sample.xlsx\")"
   ]
  },
  {
   "cell_type": "code",
   "execution_count": null,
   "id": "da20ad01",
   "metadata": {},
   "outputs": [],
   "source": []
  }
 ],
 "metadata": {
  "kernelspec": {
   "display_name": "Python 3",
   "language": "python",
   "name": "python3"
  },
  "language_info": {
   "codemirror_mode": {
    "name": "ipython",
    "version": 3
   },
   "file_extension": ".py",
   "mimetype": "text/x-python",
   "name": "python",
   "nbconvert_exporter": "python",
   "pygments_lexer": "ipython3",
   "version": "3.8.8"
  }
 },
 "nbformat": 4,
 "nbformat_minor": 5
}
