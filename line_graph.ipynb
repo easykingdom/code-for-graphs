{
 "cells": [
  {
   "cell_type": "code",
   "execution_count": 14,
   "id": "9ca19b8b",
   "metadata": {},
   "outputs": [
    {
     "data": {
      "text/html": [
       "<style>.container { width:100% !important; }</style>"
      ],
      "text/plain": [
       "<IPython.core.display.HTML object>"
      ]
     },
     "metadata": {},
     "output_type": "display_data"
    }
   ],
   "source": [
    "from IPython.display import display, HTML\n",
    "display(HTML(\"<style>.container { width:100% !important; }</style>\"))"
   ]
  },
  {
   "cell_type": "code",
   "execution_count": 4,
   "id": "428fc892",
   "metadata": {},
   "outputs": [
    {
     "data": {
      "text/plain": [
       "'3.3.4'"
      ]
     },
     "execution_count": 4,
     "metadata": {},
     "output_type": "execute_result"
    }
   ],
   "source": [
    "import matplotlib\n",
    "matplotlib.__version__"
   ]
  },
  {
   "cell_type": "code",
   "execution_count": null,
   "id": "62e1353d",
   "metadata": {},
   "outputs": [],
   "source": [
    "existing problems:\n",
    "1. font issue"
   ]
  },
  {
   "cell_type": "code",
   "execution_count": 42,
   "id": "9c138ef2",
   "metadata": {},
   "outputs": [
    {
     "name": "stdout",
     "output_type": "stream",
     "text": [
      "['C:\\\\Users\\\\uqyrong\\\\Desktop\\\\test', 'C:\\\\Program Files (x86)\\\\PerkinElmerInformatics\\\\ChemOffice2020\\\\ChemScript\\\\Lib', 'C:\\\\Users\\\\uqyrong\\\\Anaconda3\\\\python38.zip', 'C:\\\\Users\\\\uqyrong\\\\Anaconda3\\\\DLLs', 'C:\\\\Users\\\\uqyrong\\\\Anaconda3\\\\lib', 'C:\\\\Users\\\\uqyrong\\\\Anaconda3', '', 'C:\\\\Users\\\\uqyrong\\\\Anaconda3\\\\lib\\\\site-packages', 'C:\\\\Users\\\\uqyrong\\\\Anaconda3\\\\lib\\\\site-packages\\\\locket-0.2.1-py3.8.egg', 'C:\\\\Users\\\\uqyrong\\\\Anaconda3\\\\lib\\\\site-packages\\\\win32', 'C:\\\\Users\\\\uqyrong\\\\Anaconda3\\\\lib\\\\site-packages\\\\win32\\\\lib', 'C:\\\\Users\\\\uqyrong\\\\Anaconda3\\\\lib\\\\site-packages\\\\Pythonwin', 'C:\\\\Users\\\\uqyrong\\\\Anaconda3\\\\lib\\\\site-packages\\\\IPython\\\\extensions', 'C:\\\\Users\\\\uqyrong\\\\.ipython']\n"
     ]
    }
   ],
   "source": [
    "import sys\n",
    "print(sys.path)"
   ]
  },
  {
   "cell_type": "code",
   "execution_count": 1,
   "id": "1e59c779",
   "metadata": {},
   "outputs": [
    {
     "name": "stderr",
     "output_type": "stream",
     "text": [
      "<ipython-input-1-4e352f78fbf0>:63: MatplotlibDeprecationWarning: Adding an axes using the same arguments as a previous axes currently reuses the earlier instance.  In a future version, a new instance will always be created and returned.  Meanwhile, this warning can be suppressed, and the future behavior ensured, by passing a unique label to each axes instance.\n",
      "  ax = plt.axes()\n",
      "findfont: Font family ['Helvetica'] not found. Falling back to DejaVu Sans.\n",
      "findfont: Font family ['Helvetica'] not found. Falling back to DejaVu Sans.\n"
     ]
    },
    {
     "data": {
      "image/png": "[encoded data removed]",
      "text/plain": [
       "<Figure size 432x288 with 1 Axes>"
      ]
     },
     "metadata": {
      "needs_background": "light"
     },
     "output_type": "display_data"
    }
   ],
   "source": [
    "#draw a line graph\n",
    "\n",
    "import pandas as pd\n",
    "import numpy as np\n",
    "import glob\n",
    "import sys\n",
    "import matplotlib\n",
    "import matplotlib.pyplot as plt\n",
    "from matplotlib.ticker import (MultipleLocator, AutoMinorLocator, FormatStrFormatter)\n",
    "\n",
    "for fileName in glob.glob('A1_RevSta100fMidSp*.xlsx'):\n",
    "    df = pd.read_excel(fileName)\n",
    "    xaxis = df.iloc[:,0]\n",
    "    yaxis = df.iloc[:,1]\n",
    "    \n",
    "    \n",
    "#     draw line graph, specify the line color, specify linestyle, legend partly italicised\n",
    "    plt.plot(xaxis, yaxis, color = '#9e9175', ls = '-.', label = \"KP1148 $×$ $\\it{daf-2}$\")\n",
    "#     speficy legend position in the plot: \n",
    "#     upper left, upper center, upper right, \n",
    "#     center left, center, center right, right, best (automatic best position),\n",
    "#     lower left, lower center, lower right\n",
    "    plt.legend(loc='best', fontsize=10, frameon=False)\n",
    "    \n",
    "#     plot title and its positioning (left, center, right)\n",
    "    plt.title('A1_RevSta100fMidSp', loc = 'center')\n",
    "    \n",
    "#     specify X-axis parameters: \n",
    "#     label name. \n",
    "#     font size.\n",
    "#     fontweight or weight: {a numeric value in range 0-1000, 'ultralight', 'light', 'normal', 'regular', 'book', 'medium',\n",
    "#     'roman', 'semibold', 'demibold', 'demi', 'bold', 'heavy', 'extra bold', 'black'}.\n",
    "#     fontstyle: 'normal', 'italic', 'oblique'\n",
    "#     fontname: type of the font.\n",
    "\n",
    "#     labelpad: float. Distance between axis and axis label \n",
    "    plt.xlabel('Frame', \n",
    "               fontsize=10, \n",
    "               fontweight='normal',\n",
    "               fontstyle='oblique',\n",
    "               fontname='Helvetica', \n",
    "               labelpad=10)\n",
    "    \n",
    "#     specify y-axis parameters: \n",
    "#     label name. \n",
    "#     font size.\n",
    "#     fontweight or weight: {a numeric value in range 0-1000, 'ultralight', 'light', 'normal', 'regular', 'book', 'medium',\n",
    "#     'roman', 'semibold', 'demibold', 'demi', 'bold', 'heavy', 'extra bold', 'black'}.\n",
    "#     fontstyle: 'normal', 'italic', 'oblique'\n",
    "#     fontname: type of the font.\n",
    "#     labelpad: float. Distance between axis and axis label  \n",
    "    plt.ylabel('speed (µm/s)', \n",
    "               fontsize=10, \n",
    "               fontweight='normal', \n",
    "               fontstyle='normal', \n",
    "               fontname='Helvetica', \n",
    "               labelpad=10)\n",
    "    \n",
    "#     Set how close the graph is to the frame boundary\n",
    "    plt.margins()\n",
    "    \n",
    "#     Creating a new full window Axes\n",
    "    ax = plt.axes()\n",
    "    \n",
    "#     remove the top and right spines from the figure\n",
    "    ax.spines['right'].set_visible(False)\n",
    "    ax.spines['top'].set_visible(False)\n",
    "    \n",
    "#     One can supply an argument to AutoMinorLocator to specify a fixed number of minor intervals per major interval, \n",
    "#     e.g. AutoMinorLocator(2) would lead to a single minor tick between major ticks.\n",
    "    ax.xaxis.set_minor_locator(AutoMinorLocator(4))\n",
    "    ax.yaxis.set_minor_locator(AutoMinorLocator(4))\n",
    "    \n",
    "#     show minor tick labels with specified decimals, '2f' means 2 decimals\n",
    "    ax.xaxis.set_minor_formatter(FormatStrFormatter(\"%.2f\"))\n",
    "    ax.yaxis.set_minor_formatter(FormatStrFormatter(\"%.2f\"))\n",
    "    \n",
    "    #     specify the range for x-axis and y-axis\n",
    "    ax.set_xlim(0, 100)\n",
    "    ax.set_ylim(-100, 50)\n",
    "    \n",
    "#     specify ticks parameters: \n",
    "#     axis: {'x', 'y', 'both'}, default: 'both'.\n",
    "#     which: {'major', 'minor', 'both'}, default: 'major'.\n",
    "#     direction: {'in', 'out', 'inout'}.\n",
    "#     length: float. width: float.\n",
    "#     color: Tick color. (e.g., 'r', 'b').\n",
    "#     pad: float. Distance in points between tick and label.\n",
    "#     labelsize: float or str. Tick label font size in points or as a string (e.g., 'large').\n",
    "#     labelcolor: Tick label color. (e.g., 'r', 'b').\n",
    "#     bottom, top, left, right: bool. Whether to draw the respective ticks.\n",
    "    ax.tick_params(axis='both', \n",
    "                   which='minor', \n",
    "                   direction='out', \n",
    "                   length=5, width=1, \n",
    "                   color='black', \n",
    "                   pad=5, \n",
    "                   labelsize=10, \n",
    "                   labelcolor='black', \n",
    "                   bottom=True)\n",
    "    \n",
    "#     Export images in different formats\n",
    "#     rasterized output, remove undesirable whitespace around the image ,transparent background\n",
    "    plt.savefig('A1_RevSta100fMidSp.jpg', bbox_inches='tight', transparent=True)\n",
    "#     rasterized output, remove undesirable whitespace around the image ,transparent background\n",
    "    plt.savefig('A1_RevSta100fMidSp.png', bbox_inches='tight', transparent=True)\n",
    "#     vectorized output, remove undesirable whitespace around the image ,transparent background\n",
    "    plt.savefig('A1_RevSta100fMidSp.svg', bbox_inches='tight', transparent=True)\n",
    "    \n",
    "    plt.show()"
   ]
  },
  {
   "cell_type": "code",
   "execution_count": null,
   "id": "a6936498",
   "metadata": {},
   "outputs": [],
   "source": []
  }
 ],
 "metadata": {
  "kernelspec": {
   "display_name": "Python 3",
   "language": "python",
   "name": "python3"
  },
  "language_info": {
   "codemirror_mode": {
    "name": "ipython",
    "version": 3
   },
   "file_extension": ".py",
   "mimetype": "text/x-python",
   "name": "python",
   "nbconvert_exporter": "python",
   "pygments_lexer": "ipython3",
   "version": "3.8.8"
  }
 },
 "nbformat": 4,
 "nbformat_minor": 5
}
